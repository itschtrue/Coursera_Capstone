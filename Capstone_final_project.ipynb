{
 "cells": [
  {
   "cell_type": "markdown",
   "metadata": {},
   "source": [
    "<h2>Capstone Final project: Moving Recommendation</h2>"
   ]
  },
  {
   "cell_type": "markdown",
   "metadata": {},
   "source": [
    "<h3>Introduction/Business Problem</h3>"
   ]
  },
  {
   "cell_type": "markdown",
   "metadata": {},
   "source": [
    "Due to the COVID-19 pandemic, being locate near the workplace has become less necessary and working remotely has become essential. As a result working remotely has become our new norm and will most likely continue after the pandemic. This becomes an excellent opportunity to bounce between cities from one year to the next and experience a city in depth instead of shallow glimpse a vacation offers. However, choosing a neighborhood to move into without visiting first becomes quite daunting. Using the Foursquare venue api, we could compare cities and evaluate them before moving. "
   ]
  },
  {
   "cell_type": "markdown",
   "metadata": {},
   "source": [
    "<h3>Data</h3>"
   ]
  },
  {
   "cell_type": "markdown",
   "metadata": {},
   "source": [
    "Using the Foursquare api, compare the top 100 venues between a list of cities and a base city. Rank each of the neighborhoods based on the similarity to the base city. To get a better result, weight each venue category based on preference. "
   ]
  },
  {
   "cell_type": "markdown",
   "metadata": {},
   "source": [
    "<h3>Methodology</h3>"
   ]
  },
  {
   "cell_type": "markdown",
   "metadata": {},
   "source": [
    "The foursquare api provides 135 different venue categories. However, the venue categories are too specific. For example, in Oakland, CA 7 of the top 10 venues are food related ( 9 including bars ). With such a specificity comparing cities will be meaningless. "
   ]
  },
  {
   "cell_type": "markdown",
   "metadata": {},
   "source": [
    "![Top10](Top10.png)"
   ]
  },
  {
   "cell_type": "markdown",
   "metadata": {},
   "source": [
    "To make the analysis more useful, map the venue categories to more generic venue categories. In addition, to the frequency preferences for each of the generic venue categories. For this analysis a list of randomly generated preferences were used from [1, 10].\n",
    "\n",
    "For this analysis no machine learning was necessary since calculating the similarities between the cities of interest and the base city is straightword. The similarity is calculated by cosine similarity:\n",
    "            Similarity = < p A | p B > /(|| p A || || p B || )"
   ]
  },
  {
   "cell_type": "markdown",
   "metadata": {},
   "source": [
    "![Top10_generalize](Top10_generalize.png)"
   ]
  },
  {
   "cell_type": "markdown",
   "metadata": {},
   "source": [
    "<h3>Results</h3>"
   ]
  },
  {
   "cell_type": "markdown",
   "metadata": {},
   "source": [
    "Oakland, California is the base city and the list of cities of interest are: Portland, Oregon; Seattle, Washington; and San Francisco, California. The city of interest that is most similar to Oakland, California is Portland, Oregon (0.9327). However, the three cities of interest have comparable similarity: Seattle, Washington (0.9080) and San Francisco, California (0.8395). "
   ]
  },
  {
   "cell_type": "markdown",
   "metadata": {},
   "source": [
    "|City| Similarity|\n",
    "|---|---|\n",
    "|Portland, Oregon| 0.9327|\n",
    "|Seattle, Washington| 0.9080|\n",
    "|San Francisco, California| 0.8395|"
   ]
  },
  {
   "cell_type": "markdown",
   "metadata": {},
   "source": [
    "<h3>Discussion</h3>"
   ]
  },
  {
   "cell_type": "markdown",
   "metadata": {},
   "source": [
    "Further refinement of the data can be done to differentiate between the cities of interest. The mapping between the specific venue categories to the generic venue categories can be further refined by adding back in more categories. Another possibility is to increase the number of venues retrieved from the Foursquare api. Also by supplementing the foursquare data with housing information can also help differentiate. This housing information can come from zillow and can be housing availability and cost. Finally, being more specific to areas within cities can help distinguish between cities of interest. \n",
    "\n",
    "Although even with these changes, the cities of interest may still be comparable. Since their general demographic are quite similar. "
   ]
  },
  {
   "cell_type": "markdown",
   "metadata": {},
   "source": [
    "<h3>Conclusion</h3>"
   ]
  },
  {
   "cell_type": "markdown",
   "metadata": {},
   "source": [
    "In this study, we compared three cities: Portland, Oregon; Seattle, Washington; and San Francisco, California to Oakland, California to decide what city would be nice to remotely work from for a given year. This was done by comparing the venue categories of the top 100 venues of each city. The specific venue categories were overly specific that would skew this analysis, a mapping between the specific categories to more generic categories were applied. Because of the breadth of the different venue categories, preferences were also given to further refine the similarity. Through the analysis we observed that Portland, Oregon is the most similar to Oakland, California. "
   ]
  }
 ],
 "metadata": {
  "kernelspec": {
   "display_name": "Python 3",
   "language": "python",
   "name": "python3"
  },
  "language_info": {
   "codemirror_mode": {
    "name": "ipython",
    "version": 3
   },
   "file_extension": ".py",
   "mimetype": "text/x-python",
   "name": "python",
   "nbconvert_exporter": "python",
   "pygments_lexer": "ipython3",
   "version": "3.8.3"
  }
 },
 "nbformat": 4,
 "nbformat_minor": 4
}
