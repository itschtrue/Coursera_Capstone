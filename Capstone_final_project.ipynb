{
 "cells": [
  {
   "cell_type": "markdown",
   "metadata": {},
   "source": [
    "<h2>Capstone Final project: Moving Recommendation</h2>"
   ]
  },
  {
   "cell_type": "markdown",
   "metadata": {},
   "source": [
    "<h3>Introduction/Business Problem</h3>"
   ]
  },
  {
   "cell_type": "markdown",
   "metadata": {},
   "source": [
    "Due to the COVID-19 pandemic, being locate near the workplace has become less necessary and working remotely has become essential. As a result working remotely has become our new norm and will most likely continue after the pandemic. This becomes an excellent opportunity to bounce between cities from one year to the next and experience a city in depth instead of shallow glimpse a vacation offers. However, choosing a neighborhood to move into without visiting first becomes quite daunting. Using the Foursquare venue api, we could compare cities and evaluate them before moving. "
   ]
  },
  {
   "cell_type": "markdown",
   "metadata": {},
   "source": [
    "<h3>Data</h3>"
   ]
  },
  {
   "cell_type": "markdown",
   "metadata": {},
   "source": [
    "Using the Foursquare api, compare the most frequent venues between a list of cities and a base. Rank each of the neighborhoods based on the similarity to the base city. To get a better result, weight each venue category based on preference. "
   ]
  }
 ],
 "metadata": {
  "kernelspec": {
   "display_name": "Python 3",
   "language": "python",
   "name": "python3"
  },
  "language_info": {
   "codemirror_mode": {
    "name": "ipython",
    "version": 3
   },
   "file_extension": ".py",
   "mimetype": "text/x-python",
   "name": "python",
   "nbconvert_exporter": "python",
   "pygments_lexer": "ipython3",
   "version": "3.8.3"
  }
 },
 "nbformat": 4,
 "nbformat_minor": 4
}
